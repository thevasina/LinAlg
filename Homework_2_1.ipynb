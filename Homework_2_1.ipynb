{
 "cells": [
  {
   "cell_type": "code",
   "execution_count": 1,
   "metadata": {},
   "outputs": [],
   "source": [
    "import numpy as np"
   ]
  },
  {
   "cell_type": "markdown",
   "metadata": {},
   "source": [
    "**1. Установить, какие произведения матриц 𝐴𝐵 и 𝐵𝐴 определены, и найти размерности полученных матриц:**"
   ]
  },
  {
   "cell_type": "markdown",
   "metadata": {},
   "source": [
    "а) A — матрица 4×2, B — матрица 4×2; **АВ и ВА не определены**"
   ]
  },
  {
   "cell_type": "markdown",
   "metadata": {},
   "source": [
    "б) A — матрица 2×5, B — матрица 5×3; **АВ не определена, ВА определена 5х5**"
   ]
  },
  {
   "cell_type": "markdown",
   "metadata": {},
   "source": [
    "в) A — матрица 8×3, B — матрица 3×8; **АВ определена 8х8, ВА определена 3х3**"
   ]
  },
  {
   "cell_type": "markdown",
   "metadata": {},
   "source": [
    "г) A — матрица 4×4, B — матрица 4×4; **АВ и ВА определена 4х4**"
   ]
  },
  {
   "cell_type": "markdown",
   "metadata": {},
   "source": [
    "**__2.__ Найти сумму и произведение матриц** $A=\\begin{pmatrix}\n",
    "1 & -2\\\\ \n",
    "3 & 0\n",
    "\\end{pmatrix}$ и $B=\\begin{pmatrix}\n",
    "4 & -1\\\\ \n",
    "0 & 5\n",
    "\\end{pmatrix}.$"
   ]
  },
  {
   "cell_type": "code",
   "execution_count": 21,
   "metadata": {},
   "outputs": [
    {
     "data": {
      "text/plain": [
       "(array([[ 1, -2],\n",
       "        [ 3,  0]]),\n",
       " array([[ 4, -1],\n",
       "        [ 0,  5]]))"
      ]
     },
     "execution_count": 21,
     "metadata": {},
     "output_type": "execute_result"
    }
   ],
   "source": [
    "A = np.array([[1, -2], [3, 0]])\n",
    "B = np.array([[4, -1], [0, 5]])\n",
    "A, B"
   ]
  },
  {
   "cell_type": "code",
   "execution_count": 25,
   "metadata": {},
   "outputs": [
    {
     "name": "stdout",
     "output_type": "stream",
     "text": [
      "Сумма матриц А и В \n",
      "[[ 5 -3]\n",
      " [ 3  5]]\n",
      "Произведение матриц А и В \n",
      "[[  4 -11]\n",
      " [ 12  -3]]\n",
      "Произведение матриц B и A \n",
      "[[ 1 -8]\n",
      " [15  0]]\n"
     ]
    }
   ],
   "source": [
    "print(f'Сумма матриц А и В \\n{A + B}')\n",
    "print(f'Произведение матриц А и В \\n{A @ B}')\n",
    "print(f'Произведение матриц B и A \\n{B @ A}')"
   ]
  },
  {
   "cell_type": "markdown",
   "metadata": {},
   "source": [
    "__3.__ **Из закономерностей сложения и умножения матриц на число можно сделать вывод, что матрицы одного размера образуют линейное пространство. Вычислить линейную комбинацию $3A-2B+4C$ для матриц** $A=\\begin{pmatrix}\n",
    "1 & 7\\\\ \n",
    "3 & -6\n",
    "\\end{pmatrix}$, $B=\\begin{pmatrix}\n",
    "0 & 5\\\\ \n",
    "2 & -1\n",
    "\\end{pmatrix}$, $C=\\begin{pmatrix}\n",
    "2 & -4\\\\ \n",
    "1 & 1\n",
    "\\end{pmatrix}.$"
   ]
  },
  {
   "cell_type": "code",
   "execution_count": 26,
   "metadata": {},
   "outputs": [
    {
     "data": {
      "text/plain": [
       "array([[ 11,  -5],\n",
       "       [  9, -12]])"
      ]
     },
     "execution_count": 26,
     "metadata": {},
     "output_type": "execute_result"
    }
   ],
   "source": [
    "A = np.array([[1, 7], [3, -6]])\n",
    "B = np.array([[0, 5], [2, -1]])\n",
    "C = np.array([[2, -4], [1, 1]])\n",
    "\n",
    "3 * A - 2 * B + 4 * C "
   ]
  },
  {
   "cell_type": "markdown",
   "metadata": {},
   "source": [
    "__4.__ **Дана матрица** $A=\\begin{pmatrix}\n",
    "4 & 1\\\\ \n",
    "5 & -2\\\\ \n",
    "2 & 3\n",
    "\\end{pmatrix}$.\n",
    "Вычислить $AA^{T}$ и $A^{T}A$."
   ]
  },
  {
   "cell_type": "code",
   "execution_count": 28,
   "metadata": {},
   "outputs": [
    {
     "data": {
      "text/plain": [
       "(array([[ 4,  1],\n",
       "        [ 5, -2],\n",
       "        [ 2,  3]]),\n",
       " array([[ 4,  5,  2],\n",
       "        [ 1, -2,  3]]))"
      ]
     },
     "execution_count": 28,
     "metadata": {},
     "output_type": "execute_result"
    }
   ],
   "source": [
    "A = np.array([[4, 1], [5, -2], [2, 3]])\n",
    "AT = A.T\n",
    "A, AT"
   ]
  },
  {
   "cell_type": "code",
   "execution_count": 29,
   "metadata": {},
   "outputs": [
    {
     "name": "stdout",
     "output_type": "stream",
     "text": [
      "Произведение матриц А и AT \n",
      "[[17 18 11]\n",
      " [18 29  4]\n",
      " [11  4 13]]\n",
      "Произведение матриц АT и A \n",
      "[[45  0]\n",
      " [ 0 14]]\n"
     ]
    }
   ],
   "source": [
    "print(f'Произведение матриц А и AT \\n{A @ AT}')\n",
    "print(f'Произведение матриц АT и A \\n{AT @ A}')"
   ]
  },
  {
   "cell_type": "markdown",
   "metadata": {},
   "source": [
    "__5*.__ **Написать на Python функцию для перемножения двух произвольных матриц, не используя NumPy.**"
   ]
  },
  {
   "cell_type": "code",
   "execution_count": null,
   "metadata": {},
   "outputs": [],
   "source": []
  }
 ],
 "metadata": {
  "kernelspec": {
   "display_name": "Python 3",
   "language": "python",
   "name": "python3"
  },
  "language_info": {
   "codemirror_mode": {
    "name": "ipython",
    "version": 3
   },
   "file_extension": ".py",
   "mimetype": "text/x-python",
   "name": "python",
   "nbconvert_exporter": "python",
   "pygments_lexer": "ipython3",
   "version": "3.8.5"
  }
 },
 "nbformat": 4,
 "nbformat_minor": 4
}
