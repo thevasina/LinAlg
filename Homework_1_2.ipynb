{
 "cells": [
  {
   "cell_type": "code",
   "execution_count": 10,
   "metadata": {},
   "outputs": [],
   "source": [
    "import numpy as np\n",
    "from numpy.linalg import norm"
   ]
  },
  {
   "cell_type": "markdown",
   "metadata": {},
   "source": [
    "**1. Найти скалярное произведение векторов x,y∈R :**\n"
   ]
  },
  {
   "cell_type": "markdown",
   "metadata": {},
   "source": [
    "а) x=(0,−3,6), y=(−4,7,9);\n",
    "\n",
    "б) x=(7,−4,0,1), y=(−3,1,11,2)."
   ]
  },
  {
   "cell_type": "code",
   "execution_count": 3,
   "metadata": {},
   "outputs": [
    {
     "name": "stdout",
     "output_type": "stream",
     "text": [
      "Скалярное произведение x и y:\n",
      "33\n"
     ]
    }
   ],
   "source": [
    "x = np.array([0,-3,6])\n",
    "y = np.array([-4,7,9])\n",
    "print(f'Скалярное произведение x и y:\\n{np.dot(x, y)}')"
   ]
  },
  {
   "cell_type": "code",
   "execution_count": 4,
   "metadata": {},
   "outputs": [
    {
     "name": "stdout",
     "output_type": "stream",
     "text": [
      "Скалярное произведение x и y:\n",
      "-23\n"
     ]
    }
   ],
   "source": [
    "x = np.array([7,-4,0,1])\n",
    "y = np.array([-3,1,11,2])\n",
    "print(f'Скалярное произведение x и y:\\n{x @ y}')"
   ]
  },
  {
   "cell_type": "markdown",
   "metadata": {},
   "source": [
    "**2. Найти нормы векторов (4,2,4) и (12,3,4) и угол между ними.**"
   ]
  },
  {
   "cell_type": "code",
   "execution_count": 8,
   "metadata": {},
   "outputs": [
    {
     "name": "stdout",
     "output_type": "stream",
     "text": [
      "Нормы вектора а:\n",
      "манхэттенскую норма вектора a:\n",
      "10.0\n",
      "евклидова норма вектора a:\n",
      "6.0\n",
      "Нормы вектора в:\n",
      "манхэттенскую норма вектора b:\n",
      "19.0\n",
      "евклидова норма вектора b:\n",
      "13.0\n",
      "Косинус угла между векторами 0.897\n",
      "Угол 0.46 радиан\n"
     ]
    }
   ],
   "source": [
    "a = np.array([4, 2, 4])\n",
    "b = np.array([12, 3, 4])\n",
    "\n",
    "print(f'Нормы вектора а:')\n",
    "print(f'манхэттенскую норма вектора a:\\n{norm(a, ord=1)}')\n",
    "print(f'евклидова норма вектора a:\\n{norm(a, ord=2)}')\n",
    "\n",
    "print(f'Нормы вектора в:')\n",
    "print(f'манхэттенскую норма вектора b:\\n{norm(b, ord=1)}')\n",
    "print(f'евклидова норма вектора b:\\n{norm(b, ord=2)}')\n",
    "\n",
    "cos_phi = np.dot(a, b) / norm(a) / norm(b)\n",
    "print(f'Косинус угла между векторами {cos_phi:.3f}')\n",
    "print(f'Угол {np.arccos(cos_phi):.2f} радиан')"
   ]
  },
  {
   "cell_type": "markdown",
   "metadata": {},
   "source": [
    "**3. Будет ли линейное пространство евклидовым, если за скалярное произведение принять:**"
   ]
  },
  {
   "cell_type": "markdown",
   "metadata": {},
   "source": [
    "а) произведение длин векторов; **Да**\n",
    "\n",
    "б) утроенное обычное скалярное произведение векторов? **Да**"
   ]
  },
  {
   "cell_type": "markdown",
   "metadata": {},
   "source": [
    "**4. Какие из нижеперечисленных векторов образуют ортонормированный базис в линейном пространстве  ℝ3 :**"
   ]
  },
  {
   "cell_type": "markdown",
   "metadata": {},
   "source": [
    "По идее для трехмерного пространства должно быть 2 верктора, но если проверять эти 2, то под условияя ортонормированного пространстава они подходят."
   ]
  },
  {
   "cell_type": "code",
   "execution_count": 9,
   "metadata": {},
   "outputs": [],
   "source": [
    "a = np.array([1,0,0])\n",
    "b = np.array([0,0,1])"
   ]
  },
  {
   "cell_type": "code",
   "execution_count": 29,
   "metadata": {},
   "outputs": [
    {
     "name": "stdout",
     "output_type": "stream",
     "text": [
      "Скалярное произведение a и b = -0.25\n",
      "Скалярное произведение a и a = 0.5\n",
      "Скалярное произведение b и b = 0.5\n",
      "Ветора а и b образуют ортонормированное пространство\n"
     ]
    }
   ],
   "source": [
    "print(f'Скалярное произведение a и b = {np.dot(a, b)}')\n",
    "print(f'Скалярное произведение a и a = {np.dot(a, a)}')\n",
    "print(f'Скалярное произведение b и b = {np.dot(b, b)}')\n",
    "print(f'Ветора а и b образуют ортонормированное пространство')"
   ]
  },
  {
   "cell_type": "code",
   "execution_count": 17,
   "metadata": {},
   "outputs": [],
   "source": [
    "a = np.array([(1/2**0.5),(-1/2**0.5),0])\n",
    "b = np.array([(1/2**0.5),(1/2**0.5),0])\n",
    "c = np.array([0,0,1])"
   ]
  },
  {
   "cell_type": "code",
   "execution_count": 28,
   "metadata": {},
   "outputs": [
    {
     "name": "stdout",
     "output_type": "stream",
     "text": [
      "Скалярное произведение a и b = -0.25\n",
      "Скалярное произведение b и c = 0.5\n",
      "Скалярное произведение c и a = 0.0\n",
      "Скалярное произведение a и a = 0.5\n",
      "Скалярное произведение b и b = 0.5\n",
      "Скалярное произведение c и c = 1\n",
      "Ветора а, b и с образуют ортонормированное пространство\n"
     ]
    }
   ],
   "source": [
    "print(f'Скалярное произведение a и b = {np.dot(a, b)}')\n",
    "print(f'Скалярное произведение b и c = {np.dot(b, c)}')\n",
    "print(f'Скалярное произведение c и a = {np.dot(c, a)}')\n",
    "print(f'Скалярное произведение a и a = {np.dot(a, a):.1f}')\n",
    "print(f'Скалярное произведение b и b = {np.dot(b, b):.1f}')\n",
    "print(f'Скалярное произведение c и c = {np.dot(c, c)}')\n",
    "print(f'Ветора а, b и с образуют ортонормированное пространство')"
   ]
  },
  {
   "cell_type": "code",
   "execution_count": 24,
   "metadata": {},
   "outputs": [],
   "source": [
    "a = np.array([1/2,-1/2,0])\n",
    "b = np.array([0,1/2,1/2])\n",
    "c = np.array([0,0,1])"
   ]
  },
  {
   "cell_type": "code",
   "execution_count": 27,
   "metadata": {},
   "outputs": [
    {
     "name": "stdout",
     "output_type": "stream",
     "text": [
      "Скалярное произведение a и b = -0.25\n",
      "Скалярное произведение b и c = 0.5\n",
      "Скалярное произведение c и a = 0.0\n",
      "Скалярное произведение a и a = 0.5\n",
      "Скалярное произведение b и b = 0.5\n",
      "Скалярное произведение c и c = 1\n",
      "Ветора а, b и с не образуют ортонормированное пространство\n"
     ]
    }
   ],
   "source": [
    "print(f'Скалярное произведение a и b = {np.dot(a, b)}')\n",
    "print(f'Скалярное произведение b и c = {np.dot(b, c)}')\n",
    "print(f'Скалярное произведение c и a = {np.dot(c, a)}')\n",
    "print(f'Скалярное произведение a и a = {np.dot(a, a):.1f}')\n",
    "print(f'Скалярное произведение b и b = {np.dot(b, b):.1f}')\n",
    "print(f'Скалярное произведение c и c = {np.dot(c, c)}')\n",
    "print(f'Ветора а, b и с не образуют ортонормированное пространство')"
   ]
  },
  {
   "cell_type": "code",
   "execution_count": 30,
   "metadata": {},
   "outputs": [],
   "source": [
    "a = np.array([1,0,0])\n",
    "b = np.array([0,1,0])\n",
    "c = np.array([0,0,1])"
   ]
  },
  {
   "cell_type": "code",
   "execution_count": 32,
   "metadata": {},
   "outputs": [
    {
     "name": "stdout",
     "output_type": "stream",
     "text": [
      "Скалярное произведение a и b = 0\n",
      "Скалярное произведение b и c = 0\n",
      "Скалярное произведение c и a = 0\n",
      "Скалярное произведение a и a = 1.0\n",
      "Скалярное произведение b и b = 1.0\n",
      "Скалярное произведение c и c = 1\n",
      "Ветора а, b и с образуют ортонормированное пространство\n"
     ]
    }
   ],
   "source": [
    "print(f'Скалярное произведение a и b = {np.dot(a, b)}')\n",
    "print(f'Скалярное произведение b и c = {np.dot(b, c)}')\n",
    "print(f'Скалярное произведение c и a = {np.dot(c, a)}')\n",
    "print(f'Скалярное произведение a и a = {np.dot(a, a):.1f}')\n",
    "print(f'Скалярное произведение b и b = {np.dot(b, b):.1f}')\n",
    "print(f'Скалярное произведение c и c = {np.dot(c, c)}')\n",
    "print(f'Ветора а, b и с образуют ортонормированное пространство')"
   ]
  },
  {
   "cell_type": "code",
   "execution_count": null,
   "metadata": {},
   "outputs": [],
   "source": []
  }
 ],
 "metadata": {
  "kernelspec": {
   "display_name": "Python 3",
   "language": "python",
   "name": "python3"
  },
  "language_info": {
   "codemirror_mode": {
    "name": "ipython",
    "version": 3
   },
   "file_extension": ".py",
   "mimetype": "text/x-python",
   "name": "python",
   "nbconvert_exporter": "python",
   "pygments_lexer": "ipython3",
   "version": "3.8.5"
  }
 },
 "nbformat": 4,
 "nbformat_minor": 4
}
