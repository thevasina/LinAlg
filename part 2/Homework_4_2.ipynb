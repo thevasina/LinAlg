{
 "cells": [
  {
   "cell_type": "code",
   "execution_count": 1,
   "metadata": {},
   "outputs": [],
   "source": [
    "import numpy as np"
   ]
  },
  {
   "cell_type": "markdown",
   "metadata": {},
   "source": [
    "__1.__ Решить систему уравнений методом Крамера:\n",
    "\n",
    "   а) $\\begin{cases}\n",
    "x_{1}-2x_{2}=1 \\\\\n",
    "3x_{1}-4x_{2}=7\n",
    "\\end{cases}$\n",
    "    "
   ]
  },
  {
   "cell_type": "code",
   "execution_count": 7,
   "metadata": {},
   "outputs": [
    {
     "data": {
      "text/plain": [
       "(5.0, 2.0)"
      ]
     },
     "execution_count": 7,
     "metadata": {},
     "output_type": "execute_result"
    }
   ],
   "source": [
    "a = np.array([[1, -2], [3, -4]])\n",
    "det_a = np.linalg.det(a)\n",
    "a_1 = np.array([[1, -2], [7, -4]])\n",
    "det_a_1 = np.linalg.det(a_1)\n",
    "a_2 = np.array([[1, 1], [3, 7]])\n",
    "det_a_2 = np.linalg.det(a_2)\n",
    "x_1 = det_a_1/det_a\n",
    "x_2 = det_a_2/det_a\n",
    "x_1.round(2), x_2.round(2)"
   ]
  },
  {
   "cell_type": "markdown",
   "metadata": {},
   "source": [
    "   б) $\\begin{cases}\n",
    "2x_{1}-x_{2}+5x_{3}=10 \\\\\n",
    "x_{1}+x_{2}-3x_{3}=-2 \\\\\n",
    "2x_{1}+4x_{2}+x_{3}=1\n",
    "\\end{cases}$"
   ]
  },
  {
   "cell_type": "code",
   "execution_count": 11,
   "metadata": {},
   "outputs": [
    {
     "data": {
      "text/plain": [
       "(2.0, -1.0, 1.0)"
      ]
     },
     "execution_count": 11,
     "metadata": {},
     "output_type": "execute_result"
    }
   ],
   "source": [
    "b = np.array([[2, -1, 5], [1, 1, -3], [2, 4, 1]])\n",
    "det_b = np.linalg.det(b)\n",
    "b_1 = np.array([[10, -1, 5], [-2, 1, -3], [1, 4, 1]])\n",
    "det_b_1 = np.linalg.det(b_1)\n",
    "b_2 = np.array([[2, 10, 5], [1, -2, -3], [2, 1, 1]])\n",
    "det_b_2 = np.linalg.det(b_2)\n",
    "b_3 = np.array([[2, -1, 10], [1, 1, -2], [2, 4, 1]])\n",
    "det_b_3 = np.linalg.det(b_3)\n",
    "x_1 = det_b_1/det_b\n",
    "x_2 = det_b_2/det_b\n",
    "x_3 = det_b_3/det_b\n",
    "\n",
    "x_1.round(2), x_2.round(2), x_3.round(2)"
   ]
  },
  {
   "cell_type": "code",
   "execution_count": null,
   "metadata": {},
   "outputs": [],
   "source": []
  },
  {
   "cell_type": "code",
   "execution_count": null,
   "metadata": {},
   "outputs": [],
   "source": []
  }
 ],
 "metadata": {
  "kernelspec": {
   "display_name": "Python 3",
   "language": "python",
   "name": "python3"
  },
  "language_info": {
   "codemirror_mode": {
    "name": "ipython",
    "version": 3
   },
   "file_extension": ".py",
   "mimetype": "text/x-python",
   "name": "python",
   "nbconvert_exporter": "python",
   "pygments_lexer": "ipython3",
   "version": "3.8.5"
  }
 },
 "nbformat": 4,
 "nbformat_minor": 4
}
