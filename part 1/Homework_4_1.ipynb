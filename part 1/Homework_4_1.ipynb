{
 "cells": [
  {
   "cell_type": "code",
   "execution_count": 40,
   "metadata": {},
   "outputs": [],
   "source": [
    "import numpy as np"
   ]
  },
  {
   "cell_type": "code",
   "execution_count": 50,
   "metadata": {},
   "outputs": [],
   "source": [
    "def matrixs(a, b):\n",
    "    print(f'Определитель матрицы равен {np.linalg.det(a)}')\n",
    "    print(f'Ранг матрицы равен {np.linalg.matrix_rank(a)}')\n",
    "    print(f'Ранг расширенной матрицы равен {np.linalg.matrix_rank(b)}')\n",
    "    if np.linalg.matrix_rank(a) == np.linalg.matrix_rank(b) == len(a[1]):\n",
    "        print('Количество переменных = рангу мтарицы = рангу расширенной матрицы, следовательно система совместна\\\n",
    "        и имеет единственное решение')\n",
    "    elif np.linalg.matrix_rank(a) == np.linalg.matrix_rank(b) and np.linalg.matrix_rank(b) < len(a[1]):\n",
    "        print('Количество переменных больше рангов, ранг мтарицы = рангу расширенной матрицы, следовательно система\\\n",
    "      совместна и имеет бесконечное количество решений')\n",
    "    else:\n",
    "        print('Системы несовместны')"
   ]
  },
  {
   "cell_type": "markdown",
   "metadata": {},
   "source": [
    "__2.__ Проверить на совместность и выяснить, сколько решений будет иметь система линейных уравнений:\n",
    "\n",
    "   а) $\\begin{cases}\n",
    "3x_{1}-x_{2}+x_{3}=4, \\\\\n",
    "2x_{1}-5x_{2}-3x_{3}=-17, \\\\\n",
    "x_{1}+x_{2}-x_{3}=0;\n",
    "\\end{cases}$"
   ]
  },
  {
   "cell_type": "code",
   "execution_count": 51,
   "metadata": {},
   "outputs": [
    {
     "name": "stdout",
     "output_type": "stream",
     "text": [
      "Определитель матрицы равен 32.0\n",
      "Ранг матрицы равен 3\n",
      "Ранг расширенной матрицы равен 3\n",
      "Количество переменных = рангу мтарицы = рангу расширенной матрицы, следовательно система      совместна и имеет единственное решение\n"
     ]
    }
   ],
   "source": [
    "a = np.array([[3, -1, 1], [2, -5, -3], [1, 1, -1]])\n",
    "a_2 = np.array([[3, -1, 1, 4], [2, -5, -3, -17], [1, 1, -1, 0]])\n",
    "print(f'Определитель матрицы равен {np.linalg.det(a)}')\n",
    "print(f'Ранг матрицы равен {np.linalg.matrix_rank(a)}')\n",
    "print(f'Ранг расширенной матрицы равен {np.linalg.matrix_rank(a_2)}')\n",
    "print(f'Количество переменных = рангу мтарицы = рангу расширенной матрицы, следовательно система\\\n",
    "      совместна и имеет единственное решение')"
   ]
  },
  {
   "cell_type": "code",
   "execution_count": 53,
   "metadata": {},
   "outputs": [
    {
     "name": "stdout",
     "output_type": "stream",
     "text": [
      "Определитель матрицы равен 32.0\n",
      "Ранг матрицы равен 3\n",
      "Ранг расширенной матрицы равен 3\n",
      "Количество переменных = рангу мтарицы = рангу расширенной матрицы, следовательно система совместна        и имеет единственное решение\n"
     ]
    }
   ],
   "source": [
    "matrixs(a, a_2)"
   ]
  },
  {
   "cell_type": "markdown",
   "metadata": {},
   "source": [
    "   б) $\\begin{cases}\n",
    "2x_{1}-4x_{2}+6x_{3}=1, \\\\\n",
    "x_{1}-2x_{2}+3x_{3}=-2, \\\\\n",
    "3x_{1}-6x_{2}+9x_{3}=5;\n",
    "\\end{cases}$"
   ]
  },
  {
   "cell_type": "code",
   "execution_count": 54,
   "metadata": {},
   "outputs": [
    {
     "name": "stdout",
     "output_type": "stream",
     "text": [
      "Определитель матрицы равен 0.0\n",
      "Ранг матрицы равен 1\n",
      "Ранг расширенной матрицы равен 2\n",
      "Рагн расширенной матрицы больше ранга матрицы, система несовместна\n"
     ]
    }
   ],
   "source": [
    "b = np.array([[2, -4, 6], [1, -2, 3], [3, -6, 9]])\n",
    "b_2 = np.array([[2, -4, 6, 1], [1, -2, 3, -2], [3, -6, 9, 5]])\n",
    "print(f'Определитель матрицы равен {np.linalg.det(b)}')\n",
    "print(f'Ранг матрицы равен {np.linalg.matrix_rank(b)}')\n",
    "print(f'Ранг расширенной матрицы равен {np.linalg.matrix_rank(b_2)}')\n",
    "print(f'Рагн расширенной матрицы больше ранга матрицы, система несовместна')"
   ]
  },
  {
   "cell_type": "code",
   "execution_count": 55,
   "metadata": {},
   "outputs": [
    {
     "name": "stdout",
     "output_type": "stream",
     "text": [
      "Определитель матрицы равен 0.0\n",
      "Ранг матрицы равен 1\n",
      "Ранг расширенной матрицы равен 2\n",
      "Системы несовместны\n"
     ]
    }
   ],
   "source": [
    "matrixs(b, b_2)"
   ]
  },
  {
   "cell_type": "markdown",
   "metadata": {},
   "source": [
    "   в) $\\begin{cases}\n",
    "x_{1}+2x_{2}+5x_{3}=4, \\\\\n",
    "3x_{1}+x_{2}-8x_{3}=-2. \n",
    "\\end{cases}$"
   ]
  },
  {
   "cell_type": "code",
   "execution_count": 56,
   "metadata": {},
   "outputs": [
    {
     "name": "stdout",
     "output_type": "stream",
     "text": [
      "Определитель матрицы равен 0.0\n",
      "Ранг матрицы равен 2\n",
      "Ранг расширенной матрицы равен 2\n",
      "Количество переменных больше рангов, ранг мтарицы = рангу расширенной матрицы, следовательно система      совместна и имеет бесконечное количество решений\n"
     ]
    }
   ],
   "source": [
    "c = np.array([[1, 2, 5], [3, 2, -8], [0, 0, 0]])\n",
    "c_2 = np.array([[1, 2, 5, 4], [3, 2, -8, -2]])\n",
    "print(f'Определитель матрицы равен {np.linalg.det(c)}')\n",
    "print(f'Ранг матрицы равен {np.linalg.matrix_rank(c)}')\n",
    "print(f'Ранг расширенной матрицы равен {np.linalg.matrix_rank(c_2)}')\n",
    "print(f'Количество переменных больше рангов, ранг мтарицы = рангу расширенной матрицы, следовательно система\\\n",
    "      совместна и имеет бесконечное количество решений')"
   ]
  },
  {
   "cell_type": "code",
   "execution_count": 57,
   "metadata": {},
   "outputs": [
    {
     "name": "stdout",
     "output_type": "stream",
     "text": [
      "Определитель матрицы равен 0.0\n",
      "Ранг матрицы равен 2\n",
      "Ранг расширенной матрицы равен 2\n",
      "Количество переменных больше рангов, ранг мтарицы = рангу расширенной матрицы, следовательно система      совместна и имеет бесконечное количество решений\n"
     ]
    }
   ],
   "source": [
    "matrixs(c, c_2)"
   ]
  },
  {
   "cell_type": "markdown",
   "metadata": {},
   "source": [
    "__3.__ Проверить на совместность и выяснить, сколько решений будет иметь система линейных уравнений, заданная расширенной матрицей\n",
    "\n",
    "$$\\tilde{A}=\\begin{pmatrix}\n",
    "\\left.\\begin{matrix}\n",
    "1 & 3 & -2 & 4\\\\ \n",
    "0 & 5 & 0 & 1\\\\ \n",
    "0 & 0 & 3 & 0\\\\ \n",
    "0 & 0 & 0 & 2\n",
    "\\end{matrix}\\right|\n",
    "\\begin{matrix}\n",
    "3\\\\ \n",
    "2\\\\\n",
    "4\\\\\n",
    "1\n",
    "\\end{matrix}\n",
    "\\end{pmatrix}.$$"
   ]
  },
  {
   "cell_type": "code",
   "execution_count": 58,
   "metadata": {},
   "outputs": [],
   "source": [
    "c = np.array([[1, 3, -2, 4], [0, 5, 0, 1], [0, 0, 3, 0], [0, 0, 0, 2]])\n",
    "c_2 = np.array([[1, 3, -2, 4, 3], [0, 5, 0, 1, 2], [0, 0, 3, 0, 4], [0, 0, 0, 2, 1]])"
   ]
  },
  {
   "cell_type": "code",
   "execution_count": 59,
   "metadata": {},
   "outputs": [
    {
     "name": "stdout",
     "output_type": "stream",
     "text": [
      "Определитель матрицы равен 30.000000000000004\n",
      "Ранг матрицы равен 4\n",
      "Ранг расширенной матрицы равен 4\n",
      "Система определена и имеет единственное значение\n"
     ]
    }
   ],
   "source": [
    "print(f'Определитель матрицы равен {np.linalg.det(c)}')\n",
    "print(f'Ранг матрицы равен {np.linalg.matrix_rank(c)}')\n",
    "print(f'Ранг расширенной матрицы равен {np.linalg.matrix_rank(c_2)}')\n",
    "print(f'Система определена и имеет единственное значение')"
   ]
  },
  {
   "cell_type": "code",
   "execution_count": 60,
   "metadata": {},
   "outputs": [
    {
     "name": "stdout",
     "output_type": "stream",
     "text": [
      "Определитель матрицы равен 30.000000000000004\n",
      "Ранг матрицы равен 4\n",
      "Ранг расширенной матрицы равен 4\n",
      "Количество переменных = рангу мтарицы = рангу расширенной матрицы, следовательно система совместна        и имеет единственное решение\n"
     ]
    }
   ],
   "source": [
    "matrixs(c, c_2)"
   ]
  },
  {
   "cell_type": "code",
   "execution_count": null,
   "metadata": {},
   "outputs": [],
   "source": []
  }
 ],
 "metadata": {
  "kernelspec": {
   "display_name": "Python 3",
   "language": "python",
   "name": "python3"
  },
  "language_info": {
   "codemirror_mode": {
    "name": "ipython",
    "version": 3
   },
   "file_extension": ".py",
   "mimetype": "text/x-python",
   "name": "python",
   "nbconvert_exporter": "python",
   "pygments_lexer": "ipython3",
   "version": "3.8.5"
  }
 },
 "nbformat": 4,
 "nbformat_minor": 4
}
